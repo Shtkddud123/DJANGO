{
 "metadata": {
  "name": "",
  "signature": "sha256:67d33cbee0b18f9af5f78175bb57c3ea9e3508a4bd886b54f0fe0b24a913f3a3"
 },
 "nbformat": 3,
 "nbformat_minor": 0,
 "worksheets": [
  {
   "cells": [
    {
     "cell_type": "code",
     "collapsed": false,
     "input": [
      "import sys\n",
      "import compute \n",
      "\n",
      "def get_input():\n",
      "    \"\"\"Get input from the input line\"\"\"\n",
      "    r = float(sys.argv[1])\n",
      "    return r \n",
      "\n",
      "def present_output():\n",
      "    \"\"\"Write results to terminal window\"\"\"\n",
      "    s = compute.compute(r)\n",
      "    print \"Hello, World! sin(%g) = %g % (r,s)\n",
      "    "
     ],
     "language": "python",
     "metadata": {},
     "outputs": [
      {
       "ename": "SyntaxError",
       "evalue": "EOL while scanning string literal (<ipython-input-1-a0d50925a071>, line 12)",
       "output_type": "pyerr",
       "traceback": [
        "\u001b[0;36m  File \u001b[0;32m\"<ipython-input-1-a0d50925a071>\"\u001b[0;36m, line \u001b[0;32m12\u001b[0m\n\u001b[0;31m    print \"Hello, World! sin(%g) = %g % (r,s)\u001b[0m\n\u001b[0m                                            ^\u001b[0m\n\u001b[0;31mSyntaxError\u001b[0m\u001b[0;31m:\u001b[0m EOL while scanning string literal\n"
       ]
      }
     ],
     "prompt_number": 1
    },
    {
     "cell_type": "code",
     "collapsed": false,
     "input": [
      "import math  \n",
      "\n",
      "def compute(r):\n",
      "    return math.sin(r)"
     ],
     "language": "python",
     "metadata": {},
     "outputs": []
    }
   ],
   "metadata": {}
  }
 ]
}